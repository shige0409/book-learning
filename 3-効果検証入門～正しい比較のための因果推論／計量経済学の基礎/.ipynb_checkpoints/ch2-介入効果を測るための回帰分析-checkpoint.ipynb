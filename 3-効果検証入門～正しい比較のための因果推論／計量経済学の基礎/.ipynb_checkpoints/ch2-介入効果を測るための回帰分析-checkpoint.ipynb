{
 "cells": [
  {
   "cell_type": "markdown",
   "id": "2f8163e4",
   "metadata": {},
   "source": [
    "## 2.1 回帰分析の導入\n",
    "セレクションバイアスが存在する時にその影響を取り除く基本的な方法が**回帰分析**\n",
    "- 被説明変数(Y: dependent variable) MLでは目的変数\n",
    "- 介入変数(Z: treatment variable) \n",
    "- 共変量(X: control variable) セレクションバイアスを発生させていると考えられる変数\n",
    "\n",
    "<!-- $$E[Y|X, Z=1] = w{0} + w{1}*X + w{2}*Z(1)$$\n",
    "$$E[Y|X, Z=0] = w{0} + w{1}*X + w{2}*Z(0)$$\n",
    "$$E[Y|X, Z=1] - E[Y|X, Z=0] = w{2}$$ -->\n",
    "回帰分析においては介入変数の係数$w{2}$が効果量となる"
   ]
  },
  {
   "cell_type": "markdown",
   "id": "c2fe6859",
   "metadata": {},
   "source": [
    "### セレクションバイアスのあるデータの作成"
   ]
  },
  {
   "cell_type": "code",
   "execution_count": 8,
   "id": "15c87ac0",
   "metadata": {},
   "outputs": [],
   "source": [
    "import numpy as np\n",
    "import pandas as pd\n",
    "import scipy.stats as st\n",
    "from statsmodels.api import OLS\n",
    "from statsmodels.formula.api import ols"
   ]
  },
  {
   "cell_type": "code",
   "execution_count": 2,
   "id": "bf71d5d1",
   "metadata": {
    "scrolled": true
   },
   "outputs": [
    {
     "data": {
      "text/html": [
       "<div>\n",
       "<style scoped>\n",
       "    .dataframe tbody tr th:only-of-type {\n",
       "        vertical-align: middle;\n",
       "    }\n",
       "\n",
       "    .dataframe tbody tr th {\n",
       "        vertical-align: top;\n",
       "    }\n",
       "\n",
       "    .dataframe thead th {\n",
       "        text-align: right;\n",
       "    }\n",
       "</style>\n",
       "<table border=\"1\" class=\"dataframe\">\n",
       "  <thead>\n",
       "    <tr style=\"text-align: right;\">\n",
       "      <th></th>\n",
       "      <th>recency</th>\n",
       "      <th>history_segment</th>\n",
       "      <th>history</th>\n",
       "      <th>mens</th>\n",
       "      <th>womens</th>\n",
       "      <th>zip_code</th>\n",
       "      <th>newbie</th>\n",
       "      <th>channel</th>\n",
       "      <th>segment</th>\n",
       "      <th>visit</th>\n",
       "      <th>conversion</th>\n",
       "      <th>spend</th>\n",
       "      <th>is_intervention</th>\n",
       "    </tr>\n",
       "  </thead>\n",
       "  <tbody>\n",
       "    <tr>\n",
       "      <th>0</th>\n",
       "      <td>6</td>\n",
       "      <td>3) $200 - $350</td>\n",
       "      <td>329.08</td>\n",
       "      <td>1</td>\n",
       "      <td>1</td>\n",
       "      <td>Rural</td>\n",
       "      <td>1</td>\n",
       "      <td>Web</td>\n",
       "      <td>No E-Mail</td>\n",
       "      <td>0</td>\n",
       "      <td>0</td>\n",
       "      <td>0.0</td>\n",
       "      <td>0</td>\n",
       "    </tr>\n",
       "    <tr>\n",
       "      <th>1</th>\n",
       "      <td>9</td>\n",
       "      <td>5) $500 - $750</td>\n",
       "      <td>675.83</td>\n",
       "      <td>1</td>\n",
       "      <td>0</td>\n",
       "      <td>Rural</td>\n",
       "      <td>1</td>\n",
       "      <td>Web</td>\n",
       "      <td>Mens E-Mail</td>\n",
       "      <td>0</td>\n",
       "      <td>0</td>\n",
       "      <td>0.0</td>\n",
       "      <td>1</td>\n",
       "    </tr>\n",
       "    <tr>\n",
       "      <th>2</th>\n",
       "      <td>9</td>\n",
       "      <td>5) $500 - $750</td>\n",
       "      <td>675.07</td>\n",
       "      <td>1</td>\n",
       "      <td>1</td>\n",
       "      <td>Rural</td>\n",
       "      <td>1</td>\n",
       "      <td>Phone</td>\n",
       "      <td>Mens E-Mail</td>\n",
       "      <td>0</td>\n",
       "      <td>0</td>\n",
       "      <td>0.0</td>\n",
       "      <td>1</td>\n",
       "    </tr>\n",
       "    <tr>\n",
       "      <th>3</th>\n",
       "      <td>2</td>\n",
       "      <td>2) $100 - $200</td>\n",
       "      <td>101.64</td>\n",
       "      <td>0</td>\n",
       "      <td>1</td>\n",
       "      <td>Urban</td>\n",
       "      <td>0</td>\n",
       "      <td>Web</td>\n",
       "      <td>Mens E-Mail</td>\n",
       "      <td>1</td>\n",
       "      <td>0</td>\n",
       "      <td>0.0</td>\n",
       "      <td>1</td>\n",
       "    </tr>\n",
       "    <tr>\n",
       "      <th>4</th>\n",
       "      <td>4</td>\n",
       "      <td>3) $200 - $350</td>\n",
       "      <td>241.42</td>\n",
       "      <td>0</td>\n",
       "      <td>1</td>\n",
       "      <td>Rural</td>\n",
       "      <td>1</td>\n",
       "      <td>Multichannel</td>\n",
       "      <td>No E-Mail</td>\n",
       "      <td>0</td>\n",
       "      <td>0</td>\n",
       "      <td>0.0</td>\n",
       "      <td>0</td>\n",
       "    </tr>\n",
       "  </tbody>\n",
       "</table>\n",
       "</div>"
      ],
      "text/plain": [
       "   recency history_segment  history  ...  conversion  spend is_intervention\n",
       "0        6  3) $200 - $350   329.08  ...           0    0.0               0\n",
       "1        9  5) $500 - $750   675.83  ...           0    0.0               1\n",
       "2        9  5) $500 - $750   675.07  ...           0    0.0               1\n",
       "3        2  2) $100 - $200   101.64  ...           0    0.0               1\n",
       "4        4  3) $200 - $350   241.42  ...           0    0.0               0\n",
       "\n",
       "[5 rows x 13 columns]"
      ]
     },
     "execution_count": 2,
     "metadata": {},
     "output_type": "execute_result"
    }
   ],
   "source": [
    "df = pd.read_csv(\"../data/E-MailAnalytics_DataMiningChallenge_Mens.csv\")\n",
    "df.head()"
   ]
  },
  {
   "cell_type": "markdown",
   "id": "d05dc745",
   "metadata": {},
   "source": [
    "### セレクションバイアスがない状態での回帰分析"
   ]
  },
  {
   "cell_type": "code",
   "execution_count": 12,
   "id": "fce2a21e",
   "metadata": {
    "scrolled": true
   },
   "outputs": [
    {
     "data": {
      "text/html": [
       "<table class=\"simpletable\">\n",
       "<caption>OLS Regression Results</caption>\n",
       "<tr>\n",
       "  <th>Dep. Variable:</th>          <td>spend</td>      <th>  R-squared:         </th>  <td>   0.001</td>  \n",
       "</tr>\n",
       "<tr>\n",
       "  <th>Model:</th>                   <td>OLS</td>       <th>  Adj. R-squared:    </th>  <td>   0.001</td>  \n",
       "</tr>\n",
       "<tr>\n",
       "  <th>Method:</th>             <td>Least Squares</td>  <th>  F-statistic:       </th>  <td>   23.30</td>  \n",
       "</tr>\n",
       "<tr>\n",
       "  <th>Date:</th>             <td>Thu, 15 Jul 2021</td> <th>  Prob (F-statistic):</th>  <td>7.69e-11</td>  \n",
       "</tr>\n",
       "<tr>\n",
       "  <th>Time:</th>                 <td>14:47:34</td>     <th>  Log-Likelihood:    </th> <td>-1.7583e+05</td>\n",
       "</tr>\n",
       "<tr>\n",
       "  <th>No. Observations:</th>      <td> 42613</td>      <th>  AIC:               </th>  <td>3.517e+05</td> \n",
       "</tr>\n",
       "<tr>\n",
       "  <th>Df Residuals:</th>          <td> 42610</td>      <th>  BIC:               </th>  <td>3.517e+05</td> \n",
       "</tr>\n",
       "<tr>\n",
       "  <th>Df Model:</th>              <td>     2</td>      <th>                     </th>      <td> </td>     \n",
       "</tr>\n",
       "<tr>\n",
       "  <th>Covariance Type:</th>      <td>nonrobust</td>    <th>                     </th>      <td> </td>     \n",
       "</tr>\n",
       "</table>\n",
       "<table class=\"simpletable\">\n",
       "<tr>\n",
       "         <td></td>            <th>coef</th>     <th>std err</th>      <th>t</th>      <th>P>|t|</th>  <th>[0.025</th>    <th>0.975]</th>  \n",
       "</tr>\n",
       "<tr>\n",
       "  <th>Intercept</th>       <td>    0.3596</td> <td>    0.123</td> <td>    2.917</td> <td> 0.004</td> <td>    0.118</td> <td>    0.601</td>\n",
       "</tr>\n",
       "<tr>\n",
       "  <th>history</th>         <td>    0.0012</td> <td>    0.000</td> <td>    4.301</td> <td> 0.000</td> <td>    0.001</td> <td>    0.002</td>\n",
       "</tr>\n",
       "<tr>\n",
       "  <th>is_intervention</th> <td>    0.7674</td> <td>    0.145</td> <td>    5.285</td> <td> 0.000</td> <td>    0.483</td> <td>    1.052</td>\n",
       "</tr>\n",
       "</table>\n",
       "<table class=\"simpletable\">\n",
       "<tr>\n",
       "  <th>Omnibus:</th>       <td>94870.274</td> <th>  Durbin-Watson:     </th>   <td>   2.000</td>   \n",
       "</tr>\n",
       "<tr>\n",
       "  <th>Prob(Omnibus):</th>  <td> 0.000</td>   <th>  Jarque-Bera (JB):  </th> <td>502165354.939</td>\n",
       "</tr>\n",
       "<tr>\n",
       "  <th>Skew:</th>           <td>21.019</td>   <th>  Prob(JB):          </th>   <td>    0.00</td>   \n",
       "</tr>\n",
       "<tr>\n",
       "  <th>Kurtosis:</th>       <td>533.148</td>  <th>  Cond. No.          </th>   <td>    828.</td>   \n",
       "</tr>\n",
       "</table><br/><br/>Notes:<br/>[1] Standard Errors assume that the covariance matrix of the errors is correctly specified."
      ],
      "text/plain": [
       "<class 'statsmodels.iolib.summary.Summary'>\n",
       "\"\"\"\n",
       "                            OLS Regression Results                            \n",
       "==============================================================================\n",
       "Dep. Variable:                  spend   R-squared:                       0.001\n",
       "Model:                            OLS   Adj. R-squared:                  0.001\n",
       "Method:                 Least Squares   F-statistic:                     23.30\n",
       "Date:                Thu, 15 Jul 2021   Prob (F-statistic):           7.69e-11\n",
       "Time:                        14:47:34   Log-Likelihood:            -1.7583e+05\n",
       "No. Observations:               42613   AIC:                         3.517e+05\n",
       "Df Residuals:                   42610   BIC:                         3.517e+05\n",
       "Df Model:                           2                                         \n",
       "Covariance Type:            nonrobust                                         \n",
       "===================================================================================\n",
       "                      coef    std err          t      P>|t|      [0.025      0.975]\n",
       "-----------------------------------------------------------------------------------\n",
       "Intercept           0.3596      0.123      2.917      0.004       0.118       0.601\n",
       "history             0.0012      0.000      4.301      0.000       0.001       0.002\n",
       "is_intervention     0.7674      0.145      5.285      0.000       0.483       1.052\n",
       "==============================================================================\n",
       "Omnibus:                    94870.274   Durbin-Watson:                   2.000\n",
       "Prob(Omnibus):                  0.000   Jarque-Bera (JB):        502165354.939\n",
       "Skew:                          21.019   Prob(JB):                         0.00\n",
       "Kurtosis:                     533.148   Cond. No.                         828.\n",
       "==============================================================================\n",
       "\n",
       "Notes:\n",
       "[1] Standard Errors assume that the covariance matrix of the errors is correctly specified.\n",
       "\"\"\""
      ]
     },
     "execution_count": 12,
     "metadata": {},
     "output_type": "execute_result"
    }
   ],
   "source": [
    "# model = OLS(df[\"spend\"], df[[\"history\", \"is_intervention\"]])\n",
    "model = ols(\"spend ~ history + is_intervention\", data=df)\n",
    "result = model.fit()\n",
    "result.summary()"
   ]
  },
  {
   "cell_type": "markdown",
   "id": "7f909030",
   "metadata": {},
   "source": [
    "### セレクションバイアスがある状態での回帰分析\n",
    "1. historyが300以上\n",
    "2. recencyが3以下\n",
    "のどちらかの条件を満たす場合は購入意欲があるユーザーとする"
   ]
  },
  {
   "cell_type": "code",
   "execution_count": 63,
   "id": "d3a58171",
   "metadata": {
    "scrolled": true
   },
   "outputs": [
    {
     "data": {
      "text/plain": [
       "<matplotlib.axes._subplots.AxesSubplot at 0x7faa62da8850>"
      ]
     },
     "execution_count": 63,
     "metadata": {},
     "output_type": "execute_result"
    },
    {
     "data": {
      "image/png": "[encoded data removed]",
      "text/plain": [
       "<Figure size 432x288 with 1 Axes>"
      ]
     },
     "metadata": {
      "needs_background": "light"
     },
     "output_type": "display_data"
    }
   ],
   "source": [
    "df.history.plot.hist(bins=20)"
   ]
  },
  {
   "cell_type": "code",
   "execution_count": 66,
   "id": "36a38dac",
   "metadata": {},
   "outputs": [
    {
     "data": {
      "text/plain": [
       "<matplotlib.axes._subplots.AxesSubplot at 0x7faa443a4190>"
      ]
     },
     "execution_count": 66,
     "metadata": {},
     "output_type": "execute_result"
    },
    {
     "data": {
      "image/png": "[encoded data removed]",
      "text/plain": [
       "<Figure size 432x288 with 1 Axes>"
      ]
     },
     "metadata": {
      "needs_background": "light"
     },
     "output_type": "display_data"
    }
   ],
   "source": [
    "df.recency.plot.hist(bins=10)"
   ]
  },
  {
   "cell_type": "code",
   "execution_count": 68,
   "id": "96a71d24",
   "metadata": {
    "scrolled": true
   },
   "outputs": [
    {
     "name": "stdout",
     "output_type": "stream",
     "text": [
      "(21307, 13)\n",
      "(21306, 13)\n",
      "(10480, 13)\n",
      "(15894, 13)\n",
      "(10774, 13)\n",
      "(16040, 13)\n"
     ]
    }
   ],
   "source": [
    "# 介入があるユーザー\n",
    "df_groupA = df.query(\"is_intervention == 1\")\n",
    "print(df_groupA.shape)\n",
    "# 介入がないユーザー\n",
    "df_groupB= df.query(\"is_intervention == 0\")\n",
    "print(df_groupB.shape)\n",
    "\n",
    "# 購買意欲が高いユーザーはhistoryが300以上もしくはrecencyが3以下\n",
    "buyer_condition = \"history >= 300 or recency <= 3\"\n",
    "not_buyer_condition = \"not(history >= 300 or recency <= 3)\"\n",
    "\n",
    "# 介入したグループで、購入意欲が低いユーザーを50%ドロップ\n",
    "df_biasA = df_groupA.query(buyer_condition)\n",
    "print(df_biasA.shape)\n",
    "df_biasA = pd.concat([df_biasA, df_groupA.query(not_buyer_condition).sample(frac=0.5, random_state=2021)])\n",
    "print(df_biasA.shape)\n",
    "\n",
    "# 介入してないグループで、購入意欲が高いユーザーを50%ドロップ\n",
    "df_biasB = df_groupB.query(not_buyer_condition)\n",
    "print(df_biasB.shape)\n",
    "df_biasB = pd.concat([df_biasB, df_groupB.query(buyer_condition).sample(frac=0.5, random_state=2021)])\n",
    "print(df_biasB.shape)"
   ]
  },
  {
   "cell_type": "code",
   "execution_count": 69,
   "id": "e2342382",
   "metadata": {},
   "outputs": [
    {
     "data": {
      "text/html": [
       "<div>\n",
       "<style scoped>\n",
       "    .dataframe tbody tr th:only-of-type {\n",
       "        vertical-align: middle;\n",
       "    }\n",
       "\n",
       "    .dataframe tbody tr th {\n",
       "        vertical-align: top;\n",
       "    }\n",
       "\n",
       "    .dataframe thead th {\n",
       "        text-align: right;\n",
       "    }\n",
       "</style>\n",
       "<table border=\"1\" class=\"dataframe\">\n",
       "  <thead>\n",
       "    <tr style=\"text-align: right;\">\n",
       "      <th></th>\n",
       "      <th>conversion</th>\n",
       "      <th>spend</th>\n",
       "      <th>history</th>\n",
       "      <th>recency</th>\n",
       "      <th>count</th>\n",
       "    </tr>\n",
       "    <tr>\n",
       "      <th>is_intervention</th>\n",
       "      <th></th>\n",
       "      <th></th>\n",
       "      <th></th>\n",
       "      <th></th>\n",
       "      <th></th>\n",
       "    </tr>\n",
       "  </thead>\n",
       "  <tbody>\n",
       "    <tr>\n",
       "      <th>0</th>\n",
       "      <td>0.005112</td>\n",
       "      <td>0.606429</td>\n",
       "      <td>198.792570</td>\n",
       "      <td>6.510786</td>\n",
       "      <td>16040</td>\n",
       "    </tr>\n",
       "    <tr>\n",
       "      <th>1</th>\n",
       "      <td>0.013842</td>\n",
       "      <td>1.616830</td>\n",
       "      <td>286.639211</td>\n",
       "      <td>5.000818</td>\n",
       "      <td>15894</td>\n",
       "    </tr>\n",
       "  </tbody>\n",
       "</table>\n",
       "</div>"
      ],
      "text/plain": [
       "                 conversion     spend     history   recency  count\n",
       "is_intervention                                                   \n",
       "0                  0.005112  0.606429  198.792570  6.510786  16040\n",
       "1                  0.013842  1.616830  286.639211  5.000818  15894"
      ]
     },
     "execution_count": 69,
     "metadata": {},
     "output_type": "execute_result"
    }
   ],
   "source": [
    "pd.concat([df_biasA, df_biasB]).groupby(\"is_intervention\").agg({\n",
    "    \"conversion\": \"mean\",\n",
    "    \"spend\": \"mean\",\n",
    "    \"history\": \"mean\",\n",
    "    \"recency\": \"mean\",\n",
    "    \"zip_code\": \"count\"\n",
    "}).rename(columns={\"zip_code\": \"count\"})"
   ]
  },
  {
   "cell_type": "code",
   "execution_count": null,
   "id": "bdef0908",
   "metadata": {},
   "outputs": [],
   "source": []
  }
 ],
 "metadata": {
  "kernelspec": {
   "display_name": "Python 3 (ipykernel)",
   "language": "python",
   "name": "python3"
  },
  "language_info": {
   "codemirror_mode": {
    "name": "ipython",
    "version": 3
   },
   "file_extension": ".py",
   "mimetype": "text/x-python",
   "name": "python",
   "nbconvert_exporter": "python",
   "pygments_lexer": "ipython3",
   "version": "3.7.9"
  }
 },
 "nbformat": 4,
 "nbformat_minor": 5
}
