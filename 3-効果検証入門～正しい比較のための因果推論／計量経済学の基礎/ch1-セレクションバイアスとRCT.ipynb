{
 "cells": [
  {
   "cell_type": "markdown",
   "id": "0ce83a19",
   "metadata": {},
   "source": [
    "## 1.1 セレクションバイアス\n",
    "**バイアス** = 分析結果 - 本当の効果\n",
    "\n",
    "本当の効果 = グループAの効果 - グループBの効果 - **セレクションバイアス**(意図的にグループが分けられている ex. 購買意欲の高いユーザーのみに介入を行うなど)\n",
    "\n",
    "↑を取り除かないと正しい検証ができず、**正しい意思決定**ができない"
   ]
  },
  {
   "cell_type": "markdown",
   "id": "d8303a72",
   "metadata": {},
   "source": [
    "## 1.2 RCT(Randomized Controlled Trial)\n",
    "生存者バイアス: どちらか一方のパターンしか**観測**できない(ex. 広告メールが配信された場合の購入額 or その逆)\n",
    "\n",
    "=> タイムマシンでもあれば検証可能 => 不可能\n",
    "\n",
    "=> **介入**(施策)を無作為化し検証 =>　介入以外の要因を平均的に同一にできる => RCT => **ABテスト**とも呼ばれる"
   ]
  },
  {
   "cell_type": "markdown",
   "id": "fc9b7171",
   "metadata": {},
   "source": [
    "## 1.3 効果を測る理想的な方法\n",
    "手元のデータを分析することは**母集団**の性質を推定することである。\n",
    "\n",
    "$Y{i} = Y{i}^{(0)}(1 - Z{i}) + Y{i}^{(1)}Z{i} $ i: インデックス, Z: [0: 未介入, 1: 介入], Y: 効果[0: 潜在的, 1: 介入による]\n",
    "\n",
    "本当の効果 = 介入した時の効果 - 介入しない時の効果 と仮定することを**ポテンシャルアウトカムフレームワーク**\n",
    "\n",
    "$τ(タウ) = Y^{(1)} - Y^{(0)}$ => 生存者バイアスで観測不可能 => $τ = E[Y^{(1)}] - E[Y^{(0)}]$\n",
    "\n",
    "τが偶然えられたのかどうかをt検定で検証する(帰無仮説: τ = 0, 対立仮設 ≠ 0) もしくは 信頼区間"
   ]
  },
  {
   "cell_type": "markdown",
   "id": "62144f00",
   "metadata": {},
   "source": [
    "## 1.4 メールマーケティングの効果検証"
   ]
  },
  {
   "cell_type": "code",
   "execution_count": null,
   "id": "6554080f",
   "metadata": {},
   "outputs": [],
   "source": []
  }
 ],
 "metadata": {
  "kernelspec": {
   "display_name": "Python 3 (ipykernel)",
   "language": "python",
   "name": "python3"
  },
  "language_info": {
   "codemirror_mode": {
    "name": "ipython",
    "version": 3
   },
   "file_extension": ".py",
   "mimetype": "text/x-python",
   "name": "python",
   "nbconvert_exporter": "python",
   "pygments_lexer": "ipython3",
   "version": "3.7.9"
  }
 },
 "nbformat": 4,
 "nbformat_minor": 5
}
