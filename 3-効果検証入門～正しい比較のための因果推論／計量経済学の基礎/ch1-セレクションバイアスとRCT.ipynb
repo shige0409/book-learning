{
 "cells": [
  {
   "cell_type": "markdown",
   "id": "3a3d9f06",
   "metadata": {},
   "source": [
    "## 1.1 セレクションバイアス\n",
    "**バイアス** = 分析結果 - 本当の効果\n",
    "\n",
    "本当の効果 = グループAの効果 - グループBの効果 - **セレクションバイアス**(意図的にグループが分けられている ex. 購買意欲の高いユーザーのみに介入を行うなど)\n",
    "\n",
    "↑を取り除かないと正しい検証ができず、**正しい意思決定**ができない"
   ]
  },
  {
   "cell_type": "markdown",
   "id": "2eeec6f7",
   "metadata": {},
   "source": [
    "## 1.2 RCT(Randomized Controlled Trial)\n",
    "生存者バイアス: どちらか一方のパターンしか**観測**できない(ex. 広告メールが配信された場合の購入額 or その逆)\n",
    "\n",
    "=> タイムマシンでもあれば検証可能 => 不可能\n",
    "\n",
    "=> **介入**(施策)を無作為化し検証 =>　介入以外の要因を平均的に同一にできる => RCT => **ABテスト**とも呼ばれる"
   ]
  },
  {
   "cell_type": "markdown",
   "id": "7892ebdc",
   "metadata": {},
   "source": [
    "## 1.3 効果を測る理想的な方法\n",
    "手元のデータを分析することは**母集団**の性質を推定することである。\n",
    "\n",
    "$Y{i} = Y{i}^{(0)}(1 - Z{i}) + Y{i}^{(1)}Z{i} $ i: インデックス, Z: [0: 未介入, 1: 介入], Y: 効果[0: 潜在的, 1: 介入による]\n",
    "\n",
    "本当の効果 = 介入した時の効果 - 介入しない時の効果 と仮定することを**ポテンシャルアウトカムフレームワーク**\n",
    "\n",
    "$τ(タウ) = Y^{(1)} - Y^{(0)}$ => 生存者バイアスで観測不可能 => $τ = E[Y^{(1)}] - E[Y^{(0)}]$\n",
    "\n",
    "τが偶然えられたのかどうかをt検定で検証する(帰無仮説: τ = 0, 対立仮設 ≠ 0) もしくは 信頼区間"
   ]
  },
  {
   "cell_type": "markdown",
   "id": "79c20836",
   "metadata": {},
   "source": [
    "## 1.4 メールマーケティングの効果検証\n",
    "ECサイトのユーザーにRCTを適応したメールメーケティングを行った時のデータセット\n",
    "=> セレクションバイアスの問題はない"
   ]
  },
  {
   "cell_type": "code",
   "execution_count": 13,
   "id": "4bd10ee3",
   "metadata": {},
   "outputs": [],
   "source": [
    "import numpy as np\n",
    "import pandas as pd\n",
    "import scipy.stats as st"
   ]
  },
  {
   "cell_type": "code",
   "execution_count": 5,
   "id": "d50dead5",
   "metadata": {
    "scrolled": true
   },
   "outputs": [],
   "source": [
    "# !wget http://www.minethatdata.com/Kevin_Hillstrom_MineThatData_E-MailAnalytics_DataMiningChallenge_2008.03.20.csv ../data/"
   ]
  },
  {
   "cell_type": "code",
   "execution_count": 6,
   "id": "97e93400",
   "metadata": {
    "scrolled": true
   },
   "outputs": [
    {
     "name": "stdout",
     "output_type": "stream",
     "text": [
      "(64000, 12)\n",
      "recency            0\n",
      "history_segment    0\n",
      "history            0\n",
      "mens               0\n",
      "womens             0\n",
      "zip_code           0\n",
      "newbie             0\n",
      "channel            0\n",
      "segment            0\n",
      "visit              0\n",
      "conversion         0\n",
      "spend              0\n",
      "dtype: int64\n",
      "<class 'pandas.core.frame.DataFrame'>\n",
      "RangeIndex: 64000 entries, 0 to 63999\n",
      "Data columns (total 12 columns):\n",
      " #   Column           Non-Null Count  Dtype  \n",
      "---  ------           --------------  -----  \n",
      " 0   recency          64000 non-null  int64  \n",
      " 1   history_segment  64000 non-null  object \n",
      " 2   history          64000 non-null  float64\n",
      " 3   mens             64000 non-null  int64  \n",
      " 4   womens           64000 non-null  int64  \n",
      " 5   zip_code         64000 non-null  object \n",
      " 6   newbie           64000 non-null  int64  \n",
      " 7   channel          64000 non-null  object \n",
      " 8   segment          64000 non-null  object \n",
      " 9   visit            64000 non-null  int64  \n",
      " 10  conversion       64000 non-null  int64  \n",
      " 11  spend            64000 non-null  float64\n",
      "dtypes: float64(2), int64(6), object(4)\n",
      "memory usage: 5.9+ MB\n",
      "None\n",
      "            recency       history          mens        womens        newbie  \\\n",
      "count  64000.000000  64000.000000  64000.000000  64000.000000  64000.000000   \n",
      "mean       5.763734    242.085656      0.551031      0.549719      0.502250   \n",
      "std        3.507592    256.158608      0.497393      0.497526      0.499999   \n",
      "min        1.000000     29.990000      0.000000      0.000000      0.000000   \n",
      "25%        2.000000     64.660000      0.000000      0.000000      0.000000   \n",
      "50%        6.000000    158.110000      1.000000      1.000000      1.000000   \n",
      "75%        9.000000    325.657500      1.000000      1.000000      1.000000   \n",
      "max       12.000000   3345.930000      1.000000      1.000000      1.000000   \n",
      "\n",
      "              visit    conversion         spend  \n",
      "count  64000.000000  64000.000000  64000.000000  \n",
      "mean       0.146781      0.009031      1.050908  \n",
      "std        0.353890      0.094604     15.036448  \n",
      "min        0.000000      0.000000      0.000000  \n",
      "25%        0.000000      0.000000      0.000000  \n",
      "50%        0.000000      0.000000      0.000000  \n",
      "75%        0.000000      0.000000      0.000000  \n",
      "max        1.000000      1.000000    499.000000  \n"
     ]
    },
    {
     "data": {
      "text/html": [
       "<div>\n",
       "<style scoped>\n",
       "    .dataframe tbody tr th:only-of-type {\n",
       "        vertical-align: middle;\n",
       "    }\n",
       "\n",
       "    .dataframe tbody tr th {\n",
       "        vertical-align: top;\n",
       "    }\n",
       "\n",
       "    .dataframe thead th {\n",
       "        text-align: right;\n",
       "    }\n",
       "</style>\n",
       "<table border=\"1\" class=\"dataframe\">\n",
       "  <thead>\n",
       "    <tr style=\"text-align: right;\">\n",
       "      <th></th>\n",
       "      <th>recency</th>\n",
       "      <th>history_segment</th>\n",
       "      <th>history</th>\n",
       "      <th>mens</th>\n",
       "      <th>womens</th>\n",
       "      <th>zip_code</th>\n",
       "      <th>newbie</th>\n",
       "      <th>channel</th>\n",
       "      <th>segment</th>\n",
       "      <th>visit</th>\n",
       "      <th>conversion</th>\n",
       "      <th>spend</th>\n",
       "    </tr>\n",
       "  </thead>\n",
       "  <tbody>\n",
       "    <tr>\n",
       "      <th>0</th>\n",
       "      <td>10</td>\n",
       "      <td>2) $100 - $200</td>\n",
       "      <td>142.44</td>\n",
       "      <td>1</td>\n",
       "      <td>0</td>\n",
       "      <td>Surburban</td>\n",
       "      <td>0</td>\n",
       "      <td>Phone</td>\n",
       "      <td>Womens E-Mail</td>\n",
       "      <td>0</td>\n",
       "      <td>0</td>\n",
       "      <td>0.0</td>\n",
       "    </tr>\n",
       "    <tr>\n",
       "      <th>1</th>\n",
       "      <td>6</td>\n",
       "      <td>3) $200 - $350</td>\n",
       "      <td>329.08</td>\n",
       "      <td>1</td>\n",
       "      <td>1</td>\n",
       "      <td>Rural</td>\n",
       "      <td>1</td>\n",
       "      <td>Web</td>\n",
       "      <td>No E-Mail</td>\n",
       "      <td>0</td>\n",
       "      <td>0</td>\n",
       "      <td>0.0</td>\n",
       "    </tr>\n",
       "    <tr>\n",
       "      <th>2</th>\n",
       "      <td>7</td>\n",
       "      <td>2) $100 - $200</td>\n",
       "      <td>180.65</td>\n",
       "      <td>0</td>\n",
       "      <td>1</td>\n",
       "      <td>Surburban</td>\n",
       "      <td>1</td>\n",
       "      <td>Web</td>\n",
       "      <td>Womens E-Mail</td>\n",
       "      <td>0</td>\n",
       "      <td>0</td>\n",
       "      <td>0.0</td>\n",
       "    </tr>\n",
       "    <tr>\n",
       "      <th>3</th>\n",
       "      <td>9</td>\n",
       "      <td>5) $500 - $750</td>\n",
       "      <td>675.83</td>\n",
       "      <td>1</td>\n",
       "      <td>0</td>\n",
       "      <td>Rural</td>\n",
       "      <td>1</td>\n",
       "      <td>Web</td>\n",
       "      <td>Mens E-Mail</td>\n",
       "      <td>0</td>\n",
       "      <td>0</td>\n",
       "      <td>0.0</td>\n",
       "    </tr>\n",
       "    <tr>\n",
       "      <th>4</th>\n",
       "      <td>2</td>\n",
       "      <td>1) $0 - $100</td>\n",
       "      <td>45.34</td>\n",
       "      <td>1</td>\n",
       "      <td>0</td>\n",
       "      <td>Urban</td>\n",
       "      <td>0</td>\n",
       "      <td>Web</td>\n",
       "      <td>Womens E-Mail</td>\n",
       "      <td>0</td>\n",
       "      <td>0</td>\n",
       "      <td>0.0</td>\n",
       "    </tr>\n",
       "  </tbody>\n",
       "</table>\n",
       "</div>"
      ],
      "text/plain": [
       "   recency history_segment  history  mens  womens   zip_code  newbie channel  \\\n",
       "0       10  2) $100 - $200   142.44     1       0  Surburban       0   Phone   \n",
       "1        6  3) $200 - $350   329.08     1       1      Rural       1     Web   \n",
       "2        7  2) $100 - $200   180.65     0       1  Surburban       1     Web   \n",
       "3        9  5) $500 - $750   675.83     1       0      Rural       1     Web   \n",
       "4        2    1) $0 - $100    45.34     1       0      Urban       0     Web   \n",
       "\n",
       "         segment  visit  conversion  spend  \n",
       "0  Womens E-Mail      0           0    0.0  \n",
       "1      No E-Mail      0           0    0.0  \n",
       "2  Womens E-Mail      0           0    0.0  \n",
       "3    Mens E-Mail      0           0    0.0  \n",
       "4  Womens E-Mail      0           0    0.0  "
      ]
     },
     "execution_count": 6,
     "metadata": {},
     "output_type": "execute_result"
    }
   ],
   "source": [
    "df = pd.read_csv(\"../data/E-MailAnalytics_DataMiningChallenge.csv\")\n",
    "print(df.shape)\n",
    "print(df.isnull().sum())\n",
    "print(df.info())\n",
    "print(df.describe())\n",
    "df.head()"
   ]
  },
  {
   "cell_type": "code",
   "execution_count": 7,
   "id": "9ca07ce7",
   "metadata": {},
   "outputs": [
    {
     "data": {
      "text/plain": [
       "<matplotlib.axes._subplots.AxesSubplot at 0x7fe89e269390>"
      ]
     },
     "execution_count": 7,
     "metadata": {},
     "output_type": "execute_result"
    },
    {
     "data": {
      "image/png": "[encoded data removed]",
      "text/plain": [
       "<Figure size 432x288 with 1 Axes>"
      ]
     },
     "metadata": {
      "needs_background": "light"
     },
     "output_type": "display_data"
    }
   ],
   "source": [
    "df.segment.value_counts().plot.bar()"
   ]
  },
  {
   "cell_type": "code",
   "execution_count": 8,
   "id": "97cd603a",
   "metadata": {},
   "outputs": [
    {
     "name": "stdout",
     "output_type": "stream",
     "text": [
      "(42613, 12)\n"
     ]
    },
    {
     "data": {
      "text/html": [
       "<div>\n",
       "<style scoped>\n",
       "    .dataframe tbody tr th:only-of-type {\n",
       "        vertical-align: middle;\n",
       "    }\n",
       "\n",
       "    .dataframe tbody tr th {\n",
       "        vertical-align: top;\n",
       "    }\n",
       "\n",
       "    .dataframe thead th {\n",
       "        text-align: right;\n",
       "    }\n",
       "</style>\n",
       "<table border=\"1\" class=\"dataframe\">\n",
       "  <thead>\n",
       "    <tr style=\"text-align: right;\">\n",
       "      <th></th>\n",
       "      <th>recency</th>\n",
       "      <th>history_segment</th>\n",
       "      <th>history</th>\n",
       "      <th>mens</th>\n",
       "      <th>womens</th>\n",
       "      <th>zip_code</th>\n",
       "      <th>newbie</th>\n",
       "      <th>channel</th>\n",
       "      <th>segment</th>\n",
       "      <th>visit</th>\n",
       "      <th>conversion</th>\n",
       "      <th>spend</th>\n",
       "    </tr>\n",
       "  </thead>\n",
       "  <tbody>\n",
       "    <tr>\n",
       "      <th>1</th>\n",
       "      <td>6</td>\n",
       "      <td>3) $200 - $350</td>\n",
       "      <td>329.08</td>\n",
       "      <td>1</td>\n",
       "      <td>1</td>\n",
       "      <td>Rural</td>\n",
       "      <td>1</td>\n",
       "      <td>Web</td>\n",
       "      <td>No E-Mail</td>\n",
       "      <td>0</td>\n",
       "      <td>0</td>\n",
       "      <td>0.0</td>\n",
       "    </tr>\n",
       "    <tr>\n",
       "      <th>3</th>\n",
       "      <td>9</td>\n",
       "      <td>5) $500 - $750</td>\n",
       "      <td>675.83</td>\n",
       "      <td>1</td>\n",
       "      <td>0</td>\n",
       "      <td>Rural</td>\n",
       "      <td>1</td>\n",
       "      <td>Web</td>\n",
       "      <td>Mens E-Mail</td>\n",
       "      <td>0</td>\n",
       "      <td>0</td>\n",
       "      <td>0.0</td>\n",
       "    </tr>\n",
       "    <tr>\n",
       "      <th>8</th>\n",
       "      <td>9</td>\n",
       "      <td>5) $500 - $750</td>\n",
       "      <td>675.07</td>\n",
       "      <td>1</td>\n",
       "      <td>1</td>\n",
       "      <td>Rural</td>\n",
       "      <td>1</td>\n",
       "      <td>Phone</td>\n",
       "      <td>Mens E-Mail</td>\n",
       "      <td>0</td>\n",
       "      <td>0</td>\n",
       "      <td>0.0</td>\n",
       "    </tr>\n",
       "    <tr>\n",
       "      <th>13</th>\n",
       "      <td>2</td>\n",
       "      <td>2) $100 - $200</td>\n",
       "      <td>101.64</td>\n",
       "      <td>0</td>\n",
       "      <td>1</td>\n",
       "      <td>Urban</td>\n",
       "      <td>0</td>\n",
       "      <td>Web</td>\n",
       "      <td>Mens E-Mail</td>\n",
       "      <td>1</td>\n",
       "      <td>0</td>\n",
       "      <td>0.0</td>\n",
       "    </tr>\n",
       "    <tr>\n",
       "      <th>14</th>\n",
       "      <td>4</td>\n",
       "      <td>3) $200 - $350</td>\n",
       "      <td>241.42</td>\n",
       "      <td>0</td>\n",
       "      <td>1</td>\n",
       "      <td>Rural</td>\n",
       "      <td>1</td>\n",
       "      <td>Multichannel</td>\n",
       "      <td>No E-Mail</td>\n",
       "      <td>0</td>\n",
       "      <td>0</td>\n",
       "      <td>0.0</td>\n",
       "    </tr>\n",
       "  </tbody>\n",
       "</table>\n",
       "</div>"
      ],
      "text/plain": [
       "    recency history_segment  history  mens  womens zip_code  newbie  \\\n",
       "1         6  3) $200 - $350   329.08     1       1    Rural       1   \n",
       "3         9  5) $500 - $750   675.83     1       0    Rural       1   \n",
       "8         9  5) $500 - $750   675.07     1       1    Rural       1   \n",
       "13        2  2) $100 - $200   101.64     0       1    Urban       0   \n",
       "14        4  3) $200 - $350   241.42     0       1    Rural       1   \n",
       "\n",
       "         channel      segment  visit  conversion  spend  \n",
       "1            Web    No E-Mail      0           0    0.0  \n",
       "3            Web  Mens E-Mail      0           0    0.0  \n",
       "8          Phone  Mens E-Mail      0           0    0.0  \n",
       "13           Web  Mens E-Mail      1           0    0.0  \n",
       "14  Multichannel    No E-Mail      0           0    0.0  "
      ]
     },
     "execution_count": 8,
     "metadata": {},
     "output_type": "execute_result"
    }
   ],
   "source": [
    "# 問題を簡略化するために女性向けのメールを削除する\n",
    "df_mens = df.query(\"segment != 'Womens E-Mail'\").copy()\n",
    "print(df_mens.shape)\n",
    "df_mens.head()"
   ]
  },
  {
   "cell_type": "code",
   "execution_count": 9,
   "id": "8ecbf558",
   "metadata": {
    "scrolled": true
   },
   "outputs": [
    {
     "data": {
      "text/html": [
       "<div>\n",
       "<style scoped>\n",
       "    .dataframe tbody tr th:only-of-type {\n",
       "        vertical-align: middle;\n",
       "    }\n",
       "\n",
       "    .dataframe tbody tr th {\n",
       "        vertical-align: top;\n",
       "    }\n",
       "\n",
       "    .dataframe thead th {\n",
       "        text-align: right;\n",
       "    }\n",
       "</style>\n",
       "<table border=\"1\" class=\"dataframe\">\n",
       "  <thead>\n",
       "    <tr style=\"text-align: right;\">\n",
       "      <th></th>\n",
       "      <th>recency</th>\n",
       "      <th>history_segment</th>\n",
       "      <th>history</th>\n",
       "      <th>mens</th>\n",
       "      <th>womens</th>\n",
       "      <th>zip_code</th>\n",
       "      <th>newbie</th>\n",
       "      <th>channel</th>\n",
       "      <th>segment</th>\n",
       "      <th>visit</th>\n",
       "      <th>conversion</th>\n",
       "      <th>spend</th>\n",
       "      <th>is_intervention</th>\n",
       "    </tr>\n",
       "  </thead>\n",
       "  <tbody>\n",
       "    <tr>\n",
       "      <th>1</th>\n",
       "      <td>6</td>\n",
       "      <td>3) $200 - $350</td>\n",
       "      <td>329.08</td>\n",
       "      <td>1</td>\n",
       "      <td>1</td>\n",
       "      <td>Rural</td>\n",
       "      <td>1</td>\n",
       "      <td>Web</td>\n",
       "      <td>No E-Mail</td>\n",
       "      <td>0</td>\n",
       "      <td>0</td>\n",
       "      <td>0.0</td>\n",
       "      <td>0</td>\n",
       "    </tr>\n",
       "    <tr>\n",
       "      <th>3</th>\n",
       "      <td>9</td>\n",
       "      <td>5) $500 - $750</td>\n",
       "      <td>675.83</td>\n",
       "      <td>1</td>\n",
       "      <td>0</td>\n",
       "      <td>Rural</td>\n",
       "      <td>1</td>\n",
       "      <td>Web</td>\n",
       "      <td>Mens E-Mail</td>\n",
       "      <td>0</td>\n",
       "      <td>0</td>\n",
       "      <td>0.0</td>\n",
       "      <td>1</td>\n",
       "    </tr>\n",
       "    <tr>\n",
       "      <th>8</th>\n",
       "      <td>9</td>\n",
       "      <td>5) $500 - $750</td>\n",
       "      <td>675.07</td>\n",
       "      <td>1</td>\n",
       "      <td>1</td>\n",
       "      <td>Rural</td>\n",
       "      <td>1</td>\n",
       "      <td>Phone</td>\n",
       "      <td>Mens E-Mail</td>\n",
       "      <td>0</td>\n",
       "      <td>0</td>\n",
       "      <td>0.0</td>\n",
       "      <td>1</td>\n",
       "    </tr>\n",
       "    <tr>\n",
       "      <th>13</th>\n",
       "      <td>2</td>\n",
       "      <td>2) $100 - $200</td>\n",
       "      <td>101.64</td>\n",
       "      <td>0</td>\n",
       "      <td>1</td>\n",
       "      <td>Urban</td>\n",
       "      <td>0</td>\n",
       "      <td>Web</td>\n",
       "      <td>Mens E-Mail</td>\n",
       "      <td>1</td>\n",
       "      <td>0</td>\n",
       "      <td>0.0</td>\n",
       "      <td>1</td>\n",
       "    </tr>\n",
       "    <tr>\n",
       "      <th>14</th>\n",
       "      <td>4</td>\n",
       "      <td>3) $200 - $350</td>\n",
       "      <td>241.42</td>\n",
       "      <td>0</td>\n",
       "      <td>1</td>\n",
       "      <td>Rural</td>\n",
       "      <td>1</td>\n",
       "      <td>Multichannel</td>\n",
       "      <td>No E-Mail</td>\n",
       "      <td>0</td>\n",
       "      <td>0</td>\n",
       "      <td>0.0</td>\n",
       "      <td>0</td>\n",
       "    </tr>\n",
       "  </tbody>\n",
       "</table>\n",
       "</div>"
      ],
      "text/plain": [
       "    recency history_segment  history  mens  womens zip_code  newbie  \\\n",
       "1         6  3) $200 - $350   329.08     1       1    Rural       1   \n",
       "3         9  5) $500 - $750   675.83     1       0    Rural       1   \n",
       "8         9  5) $500 - $750   675.07     1       1    Rural       1   \n",
       "13        2  2) $100 - $200   101.64     0       1    Urban       0   \n",
       "14        4  3) $200 - $350   241.42     0       1    Rural       1   \n",
       "\n",
       "         channel      segment  visit  conversion  spend  is_intervention  \n",
       "1            Web    No E-Mail      0           0    0.0                0  \n",
       "3            Web  Mens E-Mail      0           0    0.0                1  \n",
       "8          Phone  Mens E-Mail      0           0    0.0                1  \n",
       "13           Web  Mens E-Mail      1           0    0.0                1  \n",
       "14  Multichannel    No E-Mail      0           0    0.0                0  "
      ]
     },
     "execution_count": 9,
     "metadata": {},
     "output_type": "execute_result"
    }
   ],
   "source": [
    "# 介入フラグ(介入していたら 1)を作成\n",
    "df_mens[\"is_intervention\"] = (df_mens.segment == \"Mens E-Mail\").astype(int)\n",
    "df_mens.head()"
   ]
  },
  {
   "cell_type": "code",
   "execution_count": 70,
   "id": "073748fb",
   "metadata": {},
   "outputs": [],
   "source": [
    "df_mens.to_csv(\"../data/E-MailAnalytics_DataMiningChallenge_Mens.csv\", index=None)"
   ]
  },
  {
   "cell_type": "code",
   "execution_count": 68,
   "id": "c2ed1c77",
   "metadata": {
    "scrolled": true
   },
   "outputs": [
    {
     "data": {
      "text/html": [
       "<div>\n",
       "<style scoped>\n",
       "    .dataframe tbody tr th:only-of-type {\n",
       "        vertical-align: middle;\n",
       "    }\n",
       "\n",
       "    .dataframe tbody tr th {\n",
       "        vertical-align: top;\n",
       "    }\n",
       "\n",
       "    .dataframe thead th {\n",
       "        text-align: right;\n",
       "    }\n",
       "</style>\n",
       "<table border=\"1\" class=\"dataframe\">\n",
       "  <thead>\n",
       "    <tr style=\"text-align: right;\">\n",
       "      <th></th>\n",
       "      <th>conversion</th>\n",
       "      <th>spend</th>\n",
       "      <th>history</th>\n",
       "      <th>recency</th>\n",
       "      <th>count</th>\n",
       "    </tr>\n",
       "    <tr>\n",
       "      <th>is_intervention</th>\n",
       "      <th></th>\n",
       "      <th></th>\n",
       "      <th></th>\n",
       "      <th></th>\n",
       "      <th></th>\n",
       "    </tr>\n",
       "  </thead>\n",
       "  <tbody>\n",
       "    <tr>\n",
       "      <th>0</th>\n",
       "      <td>0.005726</td>\n",
       "      <td>0.652789</td>\n",
       "      <td>240.882653</td>\n",
       "      <td>5.749695</td>\n",
       "      <td>21306</td>\n",
       "    </tr>\n",
       "    <tr>\n",
       "      <th>1</th>\n",
       "      <td>0.012531</td>\n",
       "      <td>1.422617</td>\n",
       "      <td>242.835931</td>\n",
       "      <td>5.773642</td>\n",
       "      <td>21307</td>\n",
       "    </tr>\n",
       "  </tbody>\n",
       "</table>\n",
       "</div>"
      ],
      "text/plain": [
       "                 conversion     spend     history   recency  count\n",
       "is_intervention                                                   \n",
       "0                  0.005726  0.652789  240.882653  5.749695  21306\n",
       "1                  0.012531  1.422617  242.835931  5.773642  21307"
      ]
     },
     "execution_count": 68,
     "metadata": {},
     "output_type": "execute_result"
    }
   ],
   "source": [
    "# 介入フラグごとの集計\n",
    "df_mens.groupby(\"is_intervention\").agg({\n",
    "    \"conversion\": \"mean\",\n",
    "    \"spend\": \"mean\",\n",
    "    \"history\": \"mean\",\n",
    "    \"recency\": \"mean\",\n",
    "    \"zip_code\": \"count\"\n",
    "}).rename(columns={\"zip_code\": \"count\"})"
   ]
  },
  {
   "cell_type": "markdown",
   "id": "a0ef4a6f",
   "metadata": {},
   "source": [
    "### 2標本 t-検定\n",
    "\n",
    "$$H{0}: メールの介入があったユーザーとないユーザーとの売上に差はない$$\n",
    "$$H{1}: メールの介入があったユーザーとないユーザーとの売上に差はある$$\n",
    "$$有意水準 = 5\\%$$\n"
   ]
  },
  {
   "cell_type": "code",
   "execution_count": 12,
   "id": "ec4b3a22",
   "metadata": {},
   "outputs": [],
   "source": [
    "# 介入があるユーザー\n",
    "groupA_spend = df_mens.query(\"is_intervention == 1\").spend\n",
    "# 介入がないユーザー\n",
    "groupB_spend = df_mens.query(\"is_intervention == 0\").spend"
   ]
  },
  {
   "cell_type": "code",
   "execution_count": 25,
   "id": "2dc58c79",
   "metadata": {
    "scrolled": true
   },
   "outputs": [
    {
     "name": "stdout",
     "output_type": "stream",
     "text": [
      "count    21307.000000\n",
      "mean         1.422617\n",
      "std         17.754205\n",
      "min          0.000000\n",
      "25%          0.000000\n",
      "50%          0.000000\n",
      "75%          0.000000\n",
      "max        499.000000\n",
      "Name: spend, dtype: float64\n",
      "count    21306.000000\n",
      "mean         0.652789\n",
      "std         11.588200\n",
      "min          0.000000\n",
      "25%          0.000000\n",
      "50%          0.000000\n",
      "75%          0.000000\n",
      "max        499.000000\n",
      "Name: spend, dtype: float64\n"
     ]
    }
   ],
   "source": [
    "print(groupA_spend.describe())\n",
    "print(groupB_spend.describe())"
   ]
  },
  {
   "cell_type": "code",
   "execution_count": 34,
   "id": "91ff2846",
   "metadata": {},
   "outputs": [
    {
     "data": {
      "text/plain": [
       "<matplotlib.axes._subplots.AxesSubplot at 0x7fe8a22a4b50>"
      ]
     },
     "execution_count": 34,
     "metadata": {},
     "output_type": "execute_result"
    },
    {
     "data": {
      "image/png": "[encoded data removed]",
      "text/plain": [
       "<Figure size 432x288 with 1 Axes>"
      ]
     },
     "metadata": {
      "needs_background": "light"
     },
     "output_type": "display_data"
    }
   ],
   "source": [
    "groupA_spend.plot.hist(bins=30)"
   ]
  },
  {
   "cell_type": "code",
   "execution_count": 33,
   "id": "5558d493",
   "metadata": {
    "scrolled": true
   },
   "outputs": [
    {
     "data": {
      "text/plain": [
       "<matplotlib.axes._subplots.AxesSubplot at 0x7fe8a202be10>"
      ]
     },
     "execution_count": 33,
     "metadata": {},
     "output_type": "execute_result"
    },
    {
     "data": {
      "image/png": "[encoded data removed]",
      "text/plain": [
       "<Figure size 432x288 with 1 Axes>"
      ]
     },
     "metadata": {
      "needs_background": "light"
     },
     "output_type": "display_data"
    }
   ],
   "source": [
    "groupB_spend.plot.hist(bins=30)"
   ]
  },
  {
   "cell_type": "code",
   "execution_count": 37,
   "id": "5e24503c",
   "metadata": {
    "scrolled": true
   },
   "outputs": [
    {
     "data": {
      "text/plain": [
       "21307"
      ]
     },
     "execution_count": 37,
     "metadata": {},
     "output_type": "execute_result"
    }
   ],
   "source": [
    "groupA_spend.shape[0]"
   ]
  },
  {
   "cell_type": "code",
   "execution_count": 69,
   "id": "8e92695f",
   "metadata": {},
   "outputs": [
    {
     "name": "stdout",
     "output_type": "stream",
     "text": [
      "グループ間の平均の差 0.7698271558945367\n",
      "t値:  5.300090294465472\n",
      "p値 1.1632008733997168e-07\n"
     ]
    }
   ],
   "source": [
    "# # 対応のないt検定スクラッチ\n",
    "groupA_mean_hat = groupA_spend.mean()\n",
    "groupB_mean_hat = groupB_spend.mean()\n",
    "degree_of_freedom = groupA_spend.shape[0] + groupB_spend.shape[0] - 2\n",
    "pooled_variance = ((groupA_spend.shape[0] - 1) * groupA_spend.var(ddof=1)+(groupB_spend.shape[0] - 1) * groupB_spend.var(ddof=1)) \\\n",
    "/ degree_of_freedom\n",
    "# print(groupA_mean_hat, groupB_mean_hat, pooled_variance)\n",
    "group_diff_mean = groupA_mean_hat - groupB_mean_hat\n",
    "print(\"グループ間の平均の差\", group_diff_mean)\n",
    "t_val = group_diff_mean / (np.sqrt(pooled_variance) * np.sqrt((1/groupA_spend.shape[0] + 1/groupB_spend.shape[0])))\n",
    "print(\"t値: \",t_val)\n",
    "p_val = (1 - st.t(degree_of_freedom).cdf(t_val)) * 2 # 両側\n",
    "print(\"p値\", p_val)"
   ]
  },
  {
   "cell_type": "code",
   "execution_count": 11,
   "id": "18e94e57",
   "metadata": {
    "scrolled": true
   },
   "outputs": [
    {
     "name": "stdout",
     "output_type": "stream",
     "text": [
      "t値: 5.300090294465472\n",
      "p値: 1.163200872605869e-07\n"
     ]
    }
   ],
   "source": [
    "# 対応のないt検定\n",
    "t_val, p_val = st.ttest_ind(groupA_spend, groupB_spend)\n",
    "print(\"t値:\", t_val)\n",
    "print(\"p値:\", p_val)"
   ]
  },
  {
   "cell_type": "markdown",
   "id": "1da94842",
   "metadata": {},
   "source": [
    "$$有意水準5\\%で帰無仮説は棄却され、対立仮説が採択される$$\n",
    "$$メールの介入により売り上げに差が出る(有意である)と言える$$"
   ]
  },
  {
   "cell_type": "markdown",
   "id": "885cf151",
   "metadata": {},
   "source": [
    "## 1.5 ビジネスにおける因果推論の必要性\n",
    "- ビジネス視点だと購買意欲が高いユーザーに対して介入した方が売り上げが伸びると予想される\n",
    "- 効果検証視点だとRCTは介入がランダムのため正しい効果を検証できる\n",
    "\n",
    "↓\n",
    "\n",
    "RCTはビジネス上コストがかかる => ビジネス上かなり難しい\n",
    "\n",
    "↓\n",
    "\n",
    "因果推論などのバイアスの影響が少ない分析結果を得られる手法を使う"
   ]
  },
  {
   "cell_type": "code",
   "execution_count": null,
   "id": "17c28b2b",
   "metadata": {},
   "outputs": [],
   "source": []
  }
 ],
 "metadata": {
  "kernelspec": {
   "display_name": "Python 3 (ipykernel)",
   "language": "python",
   "name": "python3"
  },
  "language_info": {
   "codemirror_mode": {
    "name": "ipython",
    "version": 3
   },
   "file_extension": ".py",
   "mimetype": "text/x-python",
   "name": "python",
   "nbconvert_exporter": "python",
   "pygments_lexer": "ipython3",
   "version": "3.7.9"
  }
 },
 "nbformat": 4,
 "nbformat_minor": 5
}
